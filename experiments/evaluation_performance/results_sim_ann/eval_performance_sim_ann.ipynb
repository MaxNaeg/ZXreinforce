{
 "cells": [
  {
   "cell_type": "markdown",
   "metadata": {},
   "source": [
    "# Eval compare agents results"
   ]
  },
  {
   "cell_type": "code",
   "execution_count": 1,
   "metadata": {},
   "outputs": [],
   "source": [
    "import pickle\n",
    "import numpy as np\n",
    "\n",
    "import sys\n",
    "sys.path.append(\"../../../\")\n",
    "\n",
    "from zxreinforce.own_constants import ARBITRARY"
   ]
  },
  {
   "cell_type": "code",
   "execution_count": 2,
   "metadata": {},
   "outputs": [
    {
     "name": "stdout",
     "output_type": "stream",
     "text": [
      "mean start nodes: 115.11\n",
      "mean start spiders: 111.133\n",
      "-----------------\n",
      "reward_list_sim_ann\n",
      "average return any: 104.921\n",
      "average left spiders any: 6.211999999999989\n",
      "-----------------\n"
     ]
    }
   ],
   "source": [
    "n_spiders=100\n",
    "to_add_list = [\"reward_list_sim_ann\"]\n",
    "\n",
    "base_folder = \".\"\n",
    "\n",
    "temp=0.5\n",
    "max_steps=20000\n",
    "exp_fac=0.0001\n",
    "\n",
    "add_save= f\"{n_spiders}_{temp}_{max_steps}_{exp_fac}\"\n",
    "\n",
    "\n",
    "if n_spiders==10:\n",
    "    with open(f'../../../saved_observations/initial_1000_obs_list_10_15.pkl', 'rb') as f:\n",
    "        initial_obs_list = pickle.load(f)\n",
    "elif n_spiders==100: \n",
    "    with open(f'../../../saved_observations/initial_1000_obs_list_100_150.pkl', 'rb') as f:\n",
    "        initial_obs_list = pickle.load(f)\n",
    "\n",
    "\n",
    "\n",
    "start_node_nums = [len(obs[0][0]) for obs in initial_obs_list]\n",
    "start_spider_nums = [np.sum([np.sum([spid[2:] for spid in obs[0][0]])]) for obs in initial_obs_list]\n",
    "print(f\"mean start nodes: {np.mean(start_node_nums)}\")\n",
    "print(f\"mean start spiders: {np.mean(start_spider_nums)}\")\n",
    "print(\"-----------------\")\n",
    "\n",
    "for to_add in to_add_list:\n",
    "\n",
    "    with open(f'{base_folder}/{to_add}{add_save}.pkl', 'rb') as f:\n",
    "        reward_list = pickle.load(f)\n",
    "        \n",
    "    reward_list_cum_any = np.array([np.max(np.cumsum(rew_list)) for rew_list in reward_list])\n",
    "    print(to_add)\n",
    "    print(f\"average return any: {np.mean(reward_list_cum_any)}\")\n",
    "    print(f\"average left spiders any: {np.mean(start_spider_nums) - np.mean(reward_list_cum_any)}\")\n",
    "    print(\"-----------------\")"
   ]
  },
  {
   "cell_type": "markdown",
   "metadata": {},
   "source": [
    "# eval arbitrary removed"
   ]
  },
  {
   "cell_type": "code",
   "execution_count": 3,
   "metadata": {},
   "outputs": [
    {
     "name": "stdout",
     "output_type": "stream",
     "text": [
      "mean start arbitary: 21.807\n",
      "-----------------\n",
      "diff_arbitrary_sim_ann\n",
      "average return any: 19.936\n",
      "average left spiders any: 1.8709999999999987\n",
      "-----------------\n"
     ]
    }
   ],
   "source": [
    "to_add_list = [\"diff_arbitrary_sim_ann\",]\n",
    "\n",
    "\n",
    "\n",
    "start_arb_nums = [np.sum([np.all(angle == ARBITRARY) for angle in obs[0][1]]) for obs in initial_obs_list]\n",
    "print(f\"mean start arbitary: {np.mean(start_arb_nums)}\")\n",
    "print(\"-----------------\")\n",
    "\n",
    "for to_add in to_add_list:\n",
    "\n",
    "    with open(f'{base_folder}/{to_add}{add_save}.pkl', 'rb') as f:\n",
    "        reward_list = pickle.load(f)\n",
    "        \n",
    "    reward_list_cum_any = np.array([np.max(np.cumsum(rew_list)) for rew_list in reward_list])\n",
    "    print(to_add)\n",
    "    print(f\"average return any: {np.mean(reward_list_cum_any)}\")\n",
    "    print(f\"average left spiders any: {np.mean(start_arb_nums) - np.mean(reward_list_cum_any)}\")\n",
    "    print(\"-----------------\")"
   ]
  },
  {
   "cell_type": "code",
   "execution_count": null,
   "metadata": {},
   "outputs": [],
   "source": []
  }
 ],
 "metadata": {
  "kernelspec": {
   "display_name": "tf_gnn_4",
   "language": "python",
   "name": "python3"
  },
  "language_info": {
   "codemirror_mode": {
    "name": "ipython",
    "version": 3
   },
   "file_extension": ".py",
   "mimetype": "text/x-python",
   "name": "python",
   "nbconvert_exporter": "python",
   "pygments_lexer": "ipython3",
   "version": "3.9.17"
  }
 },
 "nbformat": 4,
 "nbformat_minor": 2
}
