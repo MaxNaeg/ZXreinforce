{
 "cells": [
  {
   "cell_type": "markdown",
   "metadata": {},
   "source": [
    "# Eval compare agents results"
   ]
  },
  {
   "cell_type": "code",
   "execution_count": 11,
   "metadata": {},
   "outputs": [],
   "source": [
    "import pickle\n",
    "import numpy as np\n",
    "\n",
    "import sys\n",
    "sys.path.append(\"../../../\")\n",
    "from zxreinforce.own_constants import ARBITRARY"
   ]
  },
  {
   "cell_type": "markdown",
   "metadata": {},
   "source": []
  },
  {
   "cell_type": "code",
   "execution_count": 14,
   "metadata": {},
   "outputs": [
    {
     "name": "stdout",
     "output_type": "stream",
     "text": [
      "mean start nodes: 14.156\n",
      "mean start spiders: 10.162\n",
      "-----------------\n",
      "normal_seed=1_20240412-204341\n",
      "average return any: 7.013000011444092\n",
      "average left spiders any: 3.148999988555909\n",
      "-----------------\n"
     ]
    }
   ],
   "source": [
    "n_spiders=10\n",
    "\n",
    "to_add_list = [\"normal_seed=1_20240412-204341\"]\n",
    "\n",
    "if n_spiders==10:\n",
    "    with open(f'../../../saved_observations/initial_1000_obs_list_10_15.pkl', 'rb') as f:\n",
    "        initial_obs_list = pickle.load(f)\n",
    "elif n_spiders==100: \n",
    "    with open(f'../../../saved_observations/initial_1000_obs_list_100_150.pkl', 'rb') as f:\n",
    "        initial_obs_list = pickle.load(f)\n",
    "\n",
    "\n",
    "\n",
    "start_node_nums = [len(obs[0][0]) for obs in initial_obs_list]\n",
    "start_spider_nums = [np.sum([np.sum([spid[2:] for spid in obs[0][0]])]) for obs in initial_obs_list]\n",
    "print(f\"mean start nodes: {np.mean(start_node_nums)}\")\n",
    "print(f\"mean start spiders: {np.mean(start_spider_nums)}\")\n",
    "print(\"-----------------\")\n",
    "\n",
    "for to_add in to_add_list:\n",
    "\n",
    "    with open(f'./reward_list_agent_{to_add}_{n_spiders}_.pkl', 'rb') as f:\n",
    "        reward_list = pickle.load(f)\n",
    "        \n",
    "    reward_list_cum_any = np.array([np.max(np.cumsum(rew_list)) for rew_list in reward_list])\n",
    "    print(to_add)\n",
    "    print(f\"average return any: {np.mean(reward_list_cum_any)}\")\n",
    "    print(f\"average left spiders any: {np.mean(start_spider_nums) - np.mean(reward_list_cum_any)}\")\n",
    "    print(\"-----------------\")"
   ]
  },
  {
   "cell_type": "code",
   "execution_count": 15,
   "metadata": {},
   "outputs": [
    {
     "name": "stdout",
     "output_type": "stream",
     "text": [
      "mean start arbitary: 2.197\n",
      "-----------------\n",
      "normal_seed=1_20240412-204341\n",
      "average return any: 1.075\n",
      "average left spiders any: 1.122\n",
      "-----------------\n"
     ]
    }
   ],
   "source": [
    "\n",
    "to_add_list = [\"normal_seed=1_20240412-204341\"]\n",
    "\n",
    "\n",
    "\n",
    "\n",
    "start_arb_nums = [np.sum([np.all(angle == ARBITRARY) for angle in obs[0][1]]) for obs in initial_obs_list]\n",
    "print(f\"mean start arbitary: {np.mean(start_arb_nums)}\")\n",
    "print(\"-----------------\")\n",
    "\n",
    "\n",
    "for to_add in to_add_list:\n",
    "\n",
    "    with open(f'./diff_arbitrary_agent_{to_add}_{n_spiders}_.pkl', 'rb') as f:\n",
    "        reward_list = pickle.load(f)\n",
    "    # last reward is fake    \n",
    "    reward_list_cum_any = np.array([np.max(np.cumsum(rew_list[:-1])) for rew_list in reward_list])\n",
    "    print(to_add)\n",
    "    print(f\"average return any: {np.mean(reward_list_cum_any)}\")\n",
    "    print(f\"average left spiders any: {np.mean(start_arb_nums) - np.mean(reward_list_cum_any)}\")\n",
    "    print(\"-----------------\")"
   ]
  },
  {
   "cell_type": "code",
   "execution_count": null,
   "metadata": {},
   "outputs": [],
   "source": []
  },
  {
   "cell_type": "code",
   "execution_count": null,
   "metadata": {},
   "outputs": [],
   "source": []
  }
 ],
 "metadata": {
  "kernelspec": {
   "display_name": "tf_gnn_4",
   "language": "python",
   "name": "python3"
  },
  "language_info": {
   "codemirror_mode": {
    "name": "ipython",
    "version": 3
   },
   "file_extension": ".py",
   "mimetype": "text/x-python",
   "name": "python",
   "nbconvert_exporter": "python",
   "pygments_lexer": "ipython3",
   "version": "3.9.17"
  }
 },
 "nbformat": 4,
 "nbformat_minor": 2
}
