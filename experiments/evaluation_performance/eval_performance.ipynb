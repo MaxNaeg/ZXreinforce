{
 "cells": [
  {
   "cell_type": "markdown",
   "metadata": {},
   "source": [
    "# Eval compare agents results"
   ]
  },
  {
   "cell_type": "code",
   "execution_count": 9,
   "metadata": {},
   "outputs": [],
   "source": [
    "import pickle\n",
    "import numpy as np"
   ]
  },
  {
   "cell_type": "markdown",
   "metadata": {},
   "source": []
  },
  {
   "cell_type": "code",
   "execution_count": 10,
   "metadata": {},
   "outputs": [
    {
     "name": "stdout",
     "output_type": "stream",
     "text": [
      "mean start nodes: 115.11\n",
      "mean start spiders: 111.133\n",
      "-----------------\n",
      "no_clip_anneal_seed=0_20240412-204732\n",
      "average return any: 106.25\n",
      "average left spiders any: 4.882999999999996\n",
      "-----------------\n",
      "no_counter_seed=0_20240412-204606\n",
      "average return any: 106.18099975585938\n",
      "average left spiders any: 4.952000244140621\n",
      "-----------------\n",
      "no_entropy_anneal_seed=0_20240412-204700\n",
      "average return any: 104.99099731445312\n",
      "average left spiders any: 6.142002685546871\n",
      "-----------------\n",
      "no_entropy_seed=0_20240412-204634\n",
      "average return any: 106.18800354003906\n",
      "average left spiders any: 4.944996459960933\n",
      "-----------------\n",
      "no_kl_limit_seed=0_20240412-204905\n",
      "average return any: 106.08799743652344\n",
      "average left spiders any: 5.045002563476558\n",
      "-----------------\n",
      "no_stop_seed=0_20240422-120103\n",
      "average return any: 106.03199768066406\n",
      "average left spiders any: 5.101002319335933\n",
      "-----------------\n",
      "normal_seed=0_20240412-204251\n",
      "average return any: 106.19599914550781\n",
      "average left spiders any: 4.937000854492183\n",
      "-----------------\n",
      "normal_seed=1_20240412-204341\n",
      "average return any: 106.1989974975586\n",
      "average left spiders any: 4.934002502441402\n",
      "-----------------\n"
     ]
    }
   ],
   "source": [
    "n_spiders=100\n",
    "\n",
    "to_add_list = [\"no_clip_anneal_seed=0_20240412-204732\",\n",
    "               \"no_counter_seed=0_20240412-204606\",\n",
    "               \"no_entropy_anneal_seed=0_20240412-204700\",\n",
    "               \"no_entropy_seed=0_20240412-204634\",\n",
    "               \"no_kl_limit_seed=0_20240412-204905\",\n",
    "               \"no_stop_seed=0_20240422-120103\",\n",
    "               \"normal_seed=0_20240412-204251\",\n",
    "               \"normal_seed=1_20240412-204341\"]\n",
    "\n",
    "if n_spiders==10:\n",
    "    with open(f'../../saved_observations/initial_1000_obs_list_10_15.pkl', 'rb') as f:\n",
    "        initial_obs_list = pickle.load(f)\n",
    "elif n_spiders==100: \n",
    "    with open(f'../../saved_observations/initial_1000_obs_list_100_150.pkl', 'rb') as f:\n",
    "        initial_obs_list = pickle.load(f)\n",
    "\n",
    "\n",
    "\n",
    "start_node_nums = [len(obs[0][0]) for obs in initial_obs_list]\n",
    "start_spider_nums = [np.sum([np.sum([spid[2:] for spid in obs[0][0]])]) for obs in initial_obs_list]\n",
    "print(f\"mean start nodes: {np.mean(start_node_nums)}\")\n",
    "print(f\"mean start spiders: {np.mean(start_spider_nums)}\")\n",
    "print(\"-----------------\")\n",
    "\n",
    "for to_add in to_add_list:\n",
    "\n",
    "    with open(f'results/reward_list_agent{to_add}_{n_spiders}_.pkl', 'rb') as f:\n",
    "        reward_list = pickle.load(f)\n",
    "        \n",
    "    reward_list_cum_any = np.array([np.max(np.cumsum(rew_list)) for rew_list in reward_list])\n",
    "    print(to_add)\n",
    "    print(f\"average return any: {np.mean(reward_list_cum_any)}\")\n",
    "    print(f\"average left spiders any: {np.mean(start_spider_nums) - np.mean(reward_list_cum_any)}\")\n",
    "    print(\"-----------------\")"
   ]
  }
 ],
 "metadata": {
  "kernelspec": {
   "display_name": "tf_gnn_4",
   "language": "python",
   "name": "python3"
  },
  "language_info": {
   "codemirror_mode": {
    "name": "ipython",
    "version": 3
   },
   "file_extension": ".py",
   "mimetype": "text/x-python",
   "name": "python",
   "nbconvert_exporter": "python",
   "pygments_lexer": "ipython3",
   "version": "3.9.17"
  }
 },
 "nbformat": 4,
 "nbformat_minor": 2
}
