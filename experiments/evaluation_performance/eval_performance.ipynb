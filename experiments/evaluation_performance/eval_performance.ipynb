{
 "cells": [
  {
   "cell_type": "markdown",
   "metadata": {},
   "source": [
    "# Eval compare agents results"
   ]
  },
  {
   "cell_type": "code",
   "execution_count": 9,
   "metadata": {},
   "outputs": [],
   "source": [
    "import pickle\n",
    "import numpy as np"
   ]
  },
  {
   "cell_type": "code",
   "execution_count": 10,
   "metadata": {},
   "outputs": [],
   "source": [
    "n_spiders=100\n",
    "max_steps=2000\n",
    "exp_fac=0.001\n",
    "temp=0.5\n",
    "with open(f'results/reward_list_sim_ann{n_spiders}_{temp}_{max_steps}_{exp_fac}.pkl', 'rb') as f:\n",
    "    reward_list = pickle.load(f)\n"
   ]
  },
  {
   "cell_type": "code",
   "execution_count": 2,
   "metadata": {},
   "outputs": [],
   "source": [
    "# n_spiders=100\n",
    "# with open(f'results/reward_list_agenttime_test.pkl', 'rb') as f:\n",
    "#     reward_list = pickle.load(f)\n",
    "\n",
    "# n_spiders=100\n",
    "# with open(f'results/reward_list_greedy_100.pkl', 'rb') as f:\n",
    "#     reward_list = pickle.load(f)"
   ]
  },
  {
   "cell_type": "code",
   "execution_count": 3,
   "metadata": {},
   "outputs": [
    {
     "name": "stdout",
     "output_type": "stream",
     "text": [
      "1000\n",
      "95.859\n"
     ]
    }
   ],
   "source": [
    "print(len(reward_list))\n",
    "print(np.mean([len(rews) for rews in reward_list]))"
   ]
  },
  {
   "cell_type": "code",
   "execution_count": 4,
   "metadata": {},
   "outputs": [],
   "source": [
    "reward_list_cum = np.array([np.sum(rew_list) for rew_list in reward_list])\n",
    "\n",
    "reward_list_cum_any = np.array([np.max(np.cumsum(rew_list)) for rew_list in reward_list])"
   ]
  },
  {
   "cell_type": "code",
   "execution_count": 5,
   "metadata": {},
   "outputs": [
    {
     "name": "stdout",
     "output_type": "stream",
     "text": [
      "6.0\n",
      "[]\n"
     ]
    }
   ],
   "source": [
    "print(np.min(reward_list_cum_any))\n",
    "print(np.where(reward_list_cum_any==0)[0])"
   ]
  },
  {
   "cell_type": "code",
   "execution_count": 6,
   "metadata": {},
   "outputs": [
    {
     "name": "stdout",
     "output_type": "stream",
     "text": [
      "average return: 100.47100067138672\n",
      "average return any: 100.47100067138672\n"
     ]
    }
   ],
   "source": [
    "print(f\"average return: {np.mean(reward_list_cum)}\")\n",
    "print(f\"average return any: {np.mean(reward_list_cum_any)}\")"
   ]
  },
  {
   "cell_type": "code",
   "execution_count": 7,
   "metadata": {},
   "outputs": [
    {
     "name": "stdout",
     "output_type": "stream",
     "text": [
      "mean start nodes: 115.11\n",
      "mean start spiders: 111.133\n"
     ]
    }
   ],
   "source": [
    "if n_spiders==10:\n",
    "    with open(f'../../saved_observations/initial_1000_obs_list_10_15.pkl', 'rb') as f:\n",
    "        initial_obs_list = pickle.load(f)\n",
    "elif n_spiders==100: \n",
    "    with open(f'../../saved_observations/initial_1000_obs_list_100_150.pkl', 'rb') as f:\n",
    "        initial_obs_list = pickle.load(f)\n",
    "\n",
    "\n",
    "start_node_nums = [len(obs[0][0]) for obs in initial_obs_list]\n",
    "start_spider_nums = [np.sum([np.sum([spid[2:] for spid in obs[0][0]])]) for obs in initial_obs_list]\n",
    "\n",
    "print(f\"mean start nodes: {np.mean(start_node_nums)}\")\n",
    "print(f\"mean start spiders: {np.mean(start_spider_nums)}\")"
   ]
  },
  {
   "cell_type": "code",
   "execution_count": 8,
   "metadata": {},
   "outputs": [
    {
     "name": "stdout",
     "output_type": "stream",
     "text": [
      "average left spiders any: 10.661999328613277\n"
     ]
    }
   ],
   "source": [
    "print(f\"average left spiders any: {np.mean(start_spider_nums) - np.mean(reward_list_cum_any)}\")"
   ]
  },
  {
   "cell_type": "code",
   "execution_count": null,
   "metadata": {},
   "outputs": [],
   "source": []
  },
  {
   "cell_type": "code",
   "execution_count": null,
   "metadata": {},
   "outputs": [],
   "source": []
  },
  {
   "cell_type": "code",
   "execution_count": null,
   "metadata": {},
   "outputs": [],
   "source": []
  },
  {
   "cell_type": "code",
   "execution_count": null,
   "metadata": {},
   "outputs": [],
   "source": []
  }
 ],
 "metadata": {
  "kernelspec": {
   "display_name": "tf_gnn_4",
   "language": "python",
   "name": "python3"
  },
  "language_info": {
   "codemirror_mode": {
    "name": "ipython",
    "version": 3
   },
   "file_extension": ".py",
   "mimetype": "text/x-python",
   "name": "python",
   "nbconvert_exporter": "python",
   "pygments_lexer": "ipython3",
   "version": "3.9.17"
  }
 },
 "nbformat": 4,
 "nbformat_minor": 2
}
