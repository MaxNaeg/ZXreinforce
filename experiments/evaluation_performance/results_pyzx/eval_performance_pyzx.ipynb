{
 "cells": [
  {
   "cell_type": "markdown",
   "metadata": {},
   "source": [
    "# Eval compare agents results"
   ]
  },
  {
   "cell_type": "code",
   "execution_count": 1,
   "metadata": {},
   "outputs": [],
   "source": [
    "import pickle\n",
    "import numpy as np\n",
    "\n",
    "import sys\n",
    "sys.path.append(\"../../../\")\n",
    "\n",
    "from zxreinforce.own_constants import ARBITRARY"
   ]
  },
  {
   "cell_type": "code",
   "execution_count": 2,
   "metadata": {},
   "outputs": [
    {
     "name": "stdout",
     "output_type": "stream",
     "text": [
      "mean start nodes: 14.156\n",
      "mean start spiders: 10.162\n",
      "-----------------\n",
      "reward_list_pyzx\n",
      "average return any: 4.236\n",
      "average left spiders any: 5.926000000000001\n",
      "-----------------\n",
      "reward_listpyzx_greedy\n",
      "average return any: 7.005\n",
      "average left spiders any: 3.157000000000001\n",
      "-----------------\n"
     ]
    }
   ],
   "source": [
    "n_spiders=10\n",
    "to_add_list = [\"reward_list_pyzx\" , \"reward_listpyzx_greedy\", ]\n",
    "\n",
    "base_folder = \".\"\n",
    "\n",
    "if n_spiders==10:\n",
    "    with open(f'../../../saved_observations/initial_1000_obs_list_10_15.pkl', 'rb') as f:\n",
    "        initial_obs_list = pickle.load(f)\n",
    "elif n_spiders==100: \n",
    "    with open(f'../../../saved_observations/initial_1000_obs_list_100_150.pkl', 'rb') as f:\n",
    "        initial_obs_list = pickle.load(f)\n",
    "\n",
    "\n",
    "\n",
    "start_node_nums = [len(obs[0][0]) for obs in initial_obs_list]\n",
    "start_spider_nums = [np.sum([np.sum([spid[2:] for spid in obs[0][0]])]) for obs in initial_obs_list]\n",
    "print(f\"mean start nodes: {np.mean(start_node_nums)}\")\n",
    "print(f\"mean start spiders: {np.mean(start_spider_nums)}\")\n",
    "print(\"-----------------\")\n",
    "\n",
    "for to_add in to_add_list:\n",
    "\n",
    "    with open(f'{base_folder}/{to_add}_{n_spiders}.pkl', 'rb') as f:\n",
    "        reward_list = pickle.load(f)\n",
    "        \n",
    "    reward_list_cum_any = np.array([np.max(np.cumsum(rew_list)) for rew_list in reward_list])\n",
    "    print(to_add)\n",
    "    print(f\"average return any: {np.mean(reward_list_cum_any)}\")\n",
    "    print(f\"average left spiders any: {np.mean(start_spider_nums) - np.mean(reward_list_cum_any)}\")\n",
    "    print(\"-----------------\")"
   ]
  },
  {
   "cell_type": "markdown",
   "metadata": {},
   "source": [
    "# eval arbitrary removed"
   ]
  },
  {
   "cell_type": "code",
   "execution_count": 3,
   "metadata": {},
   "outputs": [
    {
     "name": "stdout",
     "output_type": "stream",
     "text": [
      "mean start arbitary: 2.197\n",
      "-----------------\n",
      "diff_arbitrary_pyzx\n",
      "average return any: 0.947\n",
      "average left spiders any: 1.25\n",
      "-----------------\n",
      "diff_arbitrarypyzx_greedy\n",
      "average return any: 1.017\n",
      "average left spiders any: 1.1800000000000002\n",
      "-----------------\n"
     ]
    }
   ],
   "source": [
    "to_add_list = [\"diff_arbitrary_pyzx\", \"diff_arbitrarypyzx_greedy\",]\n",
    "\n",
    "\n",
    "start_arb_nums = [np.sum([np.all(angle == ARBITRARY) for angle in obs[0][1]]) for obs in initial_obs_list]\n",
    "print(f\"mean start arbitary: {np.mean(start_arb_nums)}\")\n",
    "print(\"-----------------\")\n",
    "\n",
    "for to_add in to_add_list:\n",
    "\n",
    "    with open(f'{base_folder}/{to_add}_{n_spiders}.pkl', 'rb') as f:\n",
    "        reward_list = pickle.load(f)\n",
    "        \n",
    "    reward_list_cum_any = np.array([np.max(np.cumsum(rew_list)) for rew_list in reward_list])\n",
    "    print(to_add)\n",
    "    print(f\"average return any: {np.mean(reward_list_cum_any)}\")\n",
    "    print(f\"average left spiders any: {np.mean(start_arb_nums) - np.mean(reward_list_cum_any)}\")\n",
    "    print(\"-----------------\")"
   ]
  },
  {
   "cell_type": "code",
   "execution_count": null,
   "metadata": {},
   "outputs": [],
   "source": []
  }
 ],
 "metadata": {
  "kernelspec": {
   "display_name": "tf_gnn_4",
   "language": "python",
   "name": "python3"
  },
  "language_info": {
   "codemirror_mode": {
    "name": "ipython",
    "version": 3
   },
   "file_extension": ".py",
   "mimetype": "text/x-python",
   "name": "python",
   "nbconvert_exporter": "python",
   "pygments_lexer": "ipython3",
   "version": "3.9.17"
  }
 },
 "nbformat": 4,
 "nbformat_minor": 2
}
