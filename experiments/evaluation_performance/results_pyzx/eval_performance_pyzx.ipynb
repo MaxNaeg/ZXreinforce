{
 "cells": [
  {
   "cell_type": "markdown",
   "metadata": {},
   "source": [
    "# Eval compare agents results"
   ]
  },
  {
   "cell_type": "code",
   "execution_count": 25,
   "metadata": {},
   "outputs": [],
   "source": [
    "import pickle\n",
    "import numpy as np\n",
    "\n",
    "import sys\n",
    "sys.path.append(\"../../../\")\n",
    "\n",
    "from zxreinforce.own_constants import ARBITRARY"
   ]
  },
  {
   "cell_type": "code",
   "execution_count": 26,
   "metadata": {},
   "outputs": [
    {
     "name": "stdout",
     "output_type": "stream",
     "text": [
      "mean start nodes: 115.11\n",
      "mean start spiders: 111.133\n",
      "-----------------\n",
      "reward_list_pyzx\n",
      "average return any: 95.268\n",
      "average left spiders any: 15.864999999999995\n",
      "-----------------\n",
      "reward_list_pyzx_greedy\n",
      "average return any: 106.012\n",
      "average left spiders any: 5.120999999999995\n",
      "-----------------\n",
      "reward_list_pyzx_rl\n",
      "average return any: [106.406]\n",
      "average left spiders any: [4.727005]\n",
      "-----------------\n"
     ]
    },
    {
     "name": "stderr",
     "output_type": "stream",
     "text": [
      "/tmp/ipykernel_21939/3935344244.py:28: VisibleDeprecationWarning: Creating an ndarray from ragged nested sequences (which is a list-or-tuple of lists-or-tuples-or ndarrays with different lengths or shapes) is deprecated. If you meant to do this, you must specify 'dtype=object' when creating the ndarray.\n",
      "  reward_list_cum_any = np.array([np.max([np.max(np.cumsum(rew_list)), 0]) for rew_list in reward_list])\n"
     ]
    }
   ],
   "source": [
    "n_spiders=100\n",
    "to_add_list = [\"reward_list_pyzx\" ,\n",
    "               \"reward_list_pyzx_greedy\", \n",
    "               \"reward_list_pyzx_rl\", ]\n",
    "\n",
    "base_folder = \".\"\n",
    "\n",
    "if n_spiders==10:\n",
    "    with open(f'../../../saved_observations/initial_1000_obs_list_10_15.pkl', 'rb') as f:\n",
    "        initial_obs_list = pickle.load(f)\n",
    "elif n_spiders==100: \n",
    "    with open(f'../../../saved_observations/initial_1000_obs_list_100_150.pkl', 'rb') as f:\n",
    "        initial_obs_list = pickle.load(f)\n",
    "\n",
    "\n",
    "\n",
    "start_node_nums = [len(obs[0][0]) for obs in initial_obs_list]\n",
    "start_spider_nums = [np.sum([np.sum([spid[2:] for spid in obs[0][0]])]) for obs in initial_obs_list]\n",
    "print(f\"mean start nodes: {np.mean(start_node_nums)}\")\n",
    "print(f\"mean start spiders: {np.mean(start_spider_nums)}\")\n",
    "print(\"-----------------\")\n",
    "\n",
    "for to_add in to_add_list:\n",
    "\n",
    "    with open(f'{base_folder}/{to_add}_{n_spiders}.pkl', 'rb') as f:\n",
    "        reward_list = pickle.load(f)\n",
    "        \n",
    "    reward_list_cum_any = np.array([np.max([np.max(np.cumsum(rew_list)), 0]) for rew_list in reward_list])\n",
    "    print(to_add)\n",
    "    print(f\"average return any: {np.mean(reward_list_cum_any)}\")\n",
    "    print(f\"average left spiders any: {np.mean(start_spider_nums) - np.mean(reward_list_cum_any)}\")\n",
    "    print(\"-----------------\")"
   ]
  },
  {
   "cell_type": "markdown",
   "metadata": {},
   "source": [
    "# eval arbitrary removed"
   ]
  },
  {
   "cell_type": "code",
   "execution_count": 27,
   "metadata": {},
   "outputs": [
    {
     "name": "stdout",
     "output_type": "stream",
     "text": [
      "mean start arbitary: 21.807\n",
      "-----------------\n"
     ]
    },
    {
     "name": "stdout",
     "output_type": "stream",
     "text": [
      "diff_arbitrary_pyzx\n",
      "average return any: 18.012\n",
      "average left spiders any: 3.794999999999998\n",
      "-----------------\n",
      "diff_arbitrary_pyzx_greedy\n",
      "average return any: 20.215\n",
      "average left spiders any: 1.5919999999999987\n",
      "-----------------\n",
      "diff_arbitrary_pyzx_rl\n",
      "average return any: 20.364\n",
      "average left spiders any: 1.4429999999999978\n",
      "-----------------\n"
     ]
    }
   ],
   "source": [
    "to_add_list = [\"diff_arbitrary_pyzx\",\n",
    "               \"diff_arbitrary_pyzx_greedy\",\n",
    "                \"diff_arbitrary_pyzx_rl\"]\n",
    "\n",
    "\n",
    "start_arb_nums = [np.sum([np.all(angle == ARBITRARY) for angle in obs[0][1]]) for obs in initial_obs_list]\n",
    "print(f\"mean start arbitary: {np.mean(start_arb_nums)}\")\n",
    "print(\"-----------------\")\n",
    "\n",
    "for to_add in to_add_list:\n",
    "\n",
    "    with open(f'{base_folder}/{to_add}_{n_spiders}.pkl', 'rb') as f:\n",
    "        reward_list = pickle.load(f)\n",
    "    if \"diff_arbitrary_pyzx_rl\" == to_add:\n",
    "        # last reward is fake\n",
    "        reward_list_cum_any = np.array([np.max([np.max(np.cumsum(rew_list[:-1])), 0]) for rew_list in reward_list])\n",
    "    else:\n",
    "        reward_list_cum_any = np.array([np.max([np.max(np.cumsum(rew_list)), 0]) for rew_list in reward_list])\n",
    "    print(to_add)\n",
    "    print(f\"average return any: {np.mean(reward_list_cum_any)}\")\n",
    "    print(f\"average left spiders any: {np.mean(start_arb_nums) - np.mean(reward_list_cum_any)}\")\n",
    "    print(\"-----------------\")"
   ]
  },
  {
   "cell_type": "code",
   "execution_count": null,
   "metadata": {},
   "outputs": [],
   "source": []
  }
 ],
 "metadata": {
  "kernelspec": {
   "display_name": "tf_gnn_4",
   "language": "python",
   "name": "python3"
  },
  "language_info": {
   "codemirror_mode": {
    "name": "ipython",
    "version": 3
   },
   "file_extension": ".py",
   "mimetype": "text/x-python",
   "name": "python",
   "nbconvert_exporter": "python",
   "pygments_lexer": "ipython3",
   "version": "3.9.17"
  }
 },
 "nbformat": 4,
 "nbformat_minor": 2
}
